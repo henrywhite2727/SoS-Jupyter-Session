{
 "cells": [
  {
   "cell_type": "markdown",
   "metadata": {},
   "source": [
    "# Introduction to arrays\n"
   ]
  },
  {
   "cell_type": "markdown",
   "metadata": {},
   "source": [
    "Today we will be covering\n",
    "- Importing libraries (well just NumPy for now)\n",
    "- NumPy functions (\"zeros\",\"ones\",\"array\",\"linspace\")\n",
    "- Indexing (calling specific elements of an array)\n",
    "- Using arrays to solve equations"
   ]
  },
  {
   "cell_type": "markdown",
   "metadata": {},
   "source": [
    "An array is a fancy coding word for a matrix. This often confused me when I was getting started in coding so just remember, for our purposes... \n",
    "# Array = Matrix\n",
    "Arrays are often used to store data or compute calculations with a range of different values\n",
    "For example, if you wanted to describe the location of a point in 3D space you could write in the x, y, and z coordinates as separate variables like this..."
   ]
  },
  {
   "cell_type": "code",
   "execution_count": 1,
   "metadata": {},
   "outputs": [
    {
     "name": "stdout",
     "output_type": "stream",
     "text": [
      "5 0 1\n"
     ]
    }
   ],
   "source": [
    "x=5\n",
    "y=0\n",
    "z=1\n",
    "print(x,y,z)"
   ]
  },
  {
   "cell_type": "markdown",
   "metadata": {},
   "source": [
    "Or, you could write it as a vector (AKA an array)..."
   ]
  },
  {
   "cell_type": "markdown",
   "metadata": {},
   "source": [
    "\n",
    "\\begin{bmatrix}\n",
    "5 \\\\\n",
    "0 \\\\\n",
    "1\n",
    "\\end{bmatrix}\n"
   ]
  },
  {
   "cell_type": "code",
   "execution_count": 1,
   "metadata": {},
   "outputs": [
    {
     "name": "stdout",
     "output_type": "stream",
     "text": [
      "[5, 0, 1]\n"
     ]
    }
   ],
   "source": [
    "#Letting r=(x,y,z)\n",
    "r=[5,0,1]\n",
    "print(r)"
   ]
  },
  {
   "cell_type": "markdown",
   "metadata": {},
   "source": [
    "##### Luckily, python has many built in libraries that make array manipulation much easier :)"
   ]
  },
  {
   "cell_type": "markdown",
   "metadata": {},
   "source": [
    "# Sidenote: Importing Libraries"
   ]
  },
  {
   "cell_type": "markdown",
   "metadata": {},
   "source": [
    "One of the most useful libraries in physics is known as NumPy (short for Numerical Python). So, how do I access the formidable power known as 'NumPy'?"
   ]
  },
  {
   "cell_type": "code",
   "execution_count": 2,
   "metadata": {},
   "outputs": [],
   "source": [
    "#It is amazingly simple, just type in\n",
    "import numpy"
   ]
  },
  {
   "cell_type": "markdown",
   "metadata": {},
   "source": [
    "After running this cell, we now have access to all of numpy's built in functions. The four we will look at first are...\n",
    "- \"numpy.zeros\" which creates an array where all elements inside it are zero\n",
    "- \"numpy.ones\" which creates an array where all elements are (you guessed it!) one\n",
    "- \"numpy.array\" which allows you to create an array that you can fill in with the values of your choice.\n",
    "- \"numpy.linspace\" which creates an array of linearly spaced (hence the name) points within a specified range\n"
   ]
  },
  {
   "cell_type": "markdown",
   "metadata": {},
   "source": [
    "So let's look at np.zeros first. Say we want to create an empty 1 dimensional matrix (named NeutrinoData) that we will later fill up with 100 data points from our Neutrino experiment."
   ]
  },
  {
   "cell_type": "code",
   "execution_count": 3,
   "metadata": {},
   "outputs": [
    {
     "name": "stdout",
     "output_type": "stream",
     "text": [
      "[0. 0. 0. 0. 0. 0. 0. 0. 0. 0. 0. 0. 0. 0. 0. 0. 0. 0. 0. 0. 0. 0. 0. 0.\n",
      " 0. 0. 0. 0. 0. 0. 0. 0. 0. 0. 0. 0. 0. 0. 0. 0. 0. 0. 0. 0. 0. 0. 0. 0.\n",
      " 0. 0. 0. 0. 0. 0. 0. 0. 0. 0. 0. 0. 0. 0. 0. 0. 0. 0. 0. 0. 0. 0. 0. 0.\n",
      " 0. 0. 0. 0. 0. 0. 0. 0. 0. 0. 0. 0. 0. 0. 0. 0. 0. 0. 0. 0. 0. 0. 0. 0.\n",
      " 0. 0. 0. 0.]\n"
     ]
    }
   ],
   "source": [
    "#By empty, I simply mean all elements of this matrix/array are zero\n",
    "\n",
    "NeutrinoData=numpy.zeros(100)\n",
    "\n",
    "print(NeutrinoData)"
   ]
  },
  {
   "cell_type": "markdown",
   "metadata": {},
   "source": [
    "#### So, you can see that I accessed the built in numpy function called 'zeros' which creates an array that is completely populated with zeros."
   ]
  },
  {
   "cell_type": "markdown",
   "metadata": {},
   "source": [
    "####  The general formula for calling numpy functions is..."
   ]
  },
  {
   "cell_type": "markdown",
   "metadata": {},
   "source": [
    "####  variable = numpy.name_of_function(function inputs)"
   ]
  },
  {
   "cell_type": "markdown",
   "metadata": {},
   "source": [
    "#### You Try!\n",
    "Try making an array of only zeros (using numpy.zeros) that has between 20-80 elements. Print this array when done"
   ]
  },
  {
   "cell_type": "markdown",
   "metadata": {},
   "source": [
    "# Tricks of the Trade\n",
    "As your coding gets more and more complex, it may get tiresome to be typing numpy before every single function you want to call. Luckily, you can 'rename' numpy when you import it to save a bit of work"
   ]
  },
  {
   "cell_type": "code",
   "execution_count": 10,
   "metadata": {},
   "outputs": [
    {
     "name": "stdout",
     "output_type": "stream",
     "text": [
      "[0. 0. 0. 0. 0. 0. 0. 0. 0. 0. 0. 0. 0. 0. 0. 0. 0. 0. 0. 0. 0. 0. 0. 0.\n",
      " 0. 0. 0. 0. 0. 0. 0. 0. 0. 0. 0. 0. 0. 0. 0. 0. 0. 0. 0. 0. 0. 0. 0. 0.\n",
      " 0. 0. 0. 0. 0. 0. 0. 0. 0. 0. 0. 0. 0. 0. 0. 0. 0. 0. 0. 0. 0. 0. 0. 0.\n",
      " 0. 0. 0. 0. 0. 0. 0. 0. 0. 0. 0. 0. 0. 0. 0. 0. 0. 0. 0. 0. 0. 0. 0. 0.\n",
      " 0. 0. 0. 0.]\n"
     ]
    }
   ],
   "source": [
    "#What we did before:\n",
    "import numpy\n",
    "\n",
    "#What we're doing now (renames numpy as np so your computer recognizes np to mean numpy)\n",
    "import numpy as np\n",
    "\n",
    "#You could also name it something else\n",
    "\n",
    "import numpy as henryIsTheBest\n",
    "zero_array=henryIsTheBest.zeros(100)\n",
    "print(zero_array)\n",
    "\n",
    "#However, I would definitely NOT reccommend making it something like this!!\n",
    "\n",
    "\n",
    "#Let's stick with the \"Physics Standard\"\n",
    "import numpy as np"
   ]
  },
  {
   "cell_type": "code",
   "execution_count": 11,
   "metadata": {},
   "outputs": [
    {
     "name": "stdout",
     "output_type": "stream",
     "text": [
      "[0. 0. 0. 0. 0. 0. 0. 0. 0. 0. 0. 0. 0. 0. 0. 0. 0. 0. 0. 0. 0. 0. 0. 0.\n",
      " 0. 0. 0. 0. 0. 0. 0. 0. 0. 0. 0. 0. 0. 0. 0. 0. 0. 0. 0. 0. 0. 0. 0. 0.\n",
      " 0. 0. 0. 0. 0. 0. 0. 0. 0. 0. 0. 0. 0. 0. 0. 0. 0. 0. 0. 0. 0. 0. 0. 0.\n",
      " 0. 0. 0. 0. 0. 0. 0. 0. 0. 0. 0. 0. 0. 0. 0. 0. 0. 0. 0. 0. 0. 0. 0. 0.\n",
      " 0. 0. 0. 0.]\n"
     ]
    }
   ],
   "source": [
    "#So back to the Neutrino Data set example, we can generate our empty matrix by now writing\n",
    "NeutrinoData=np.zeros(100)\n",
    "print(NeutrinoData)"
   ]
  },
  {
   "cell_type": "markdown",
   "metadata": {},
   "source": [
    "Next, let's look at numpy.ones! Or more accurately, np.ones! Let's try making a 50 point array of just ones."
   ]
  },
  {
   "cell_type": "code",
   "execution_count": 22,
   "metadata": {},
   "outputs": [
    {
     "name": "stdout",
     "output_type": "stream",
     "text": [
      "[1. 1. 1. 1. 1. 1. 1. 1. 1. 1. 1. 1. 1. 1. 1. 1. 1. 1. 1. 1. 1. 1. 1. 1.\n",
      " 1. 1. 1. 1. 1. 1. 1. 1. 1. 1. 1. 1. 1. 1. 1. 1. 1. 1. 1. 1. 1. 1. 1. 1.\n",
      " 1. 1.]\n"
     ]
    }
   ],
   "source": [
    "NeutrinoData2=np.ones(50)\n",
    "\n",
    "print(NeutrinoData2)"
   ]
  },
  {
   "cell_type": "markdown",
   "metadata": {},
   "source": [
    "Are there any questions so far? \n",
    "- Do you understand how to import a library?\n",
    "- Do you understand how to rename a library once it's imported? Do you get why we do that?\n",
    "- What is the input for np.ones and np.zeros?"
   ]
  },
  {
   "cell_type": "markdown",
   "metadata": {},
   "source": [
    "# Now onto our 3rd built in function, \"np.array\"\n",
    "Remember: np.array is used to create an array that you fill with elements of your choice."
   ]
  },
  {
   "cell_type": "code",
   "execution_count": 8,
   "metadata": {},
   "outputs": [
    {
     "name": "stdout",
     "output_type": "stream",
     "text": [
      "[5, 0, 1]\n",
      "[5 0 1]\n"
     ]
    }
   ],
   "source": [
    "#You may remember that I saved an array earlier by simply typing\n",
    "r=[5,0,1]\n",
    "print(r)\n",
    "\n",
    "#Writing an array this way won't produce any errors, however it is better to write arrays \n",
    "#using np.array because it uses much less memory on your computer/server\n",
    "\n",
    "r=np.array([5,0,1])\n",
    "print(r)"
   ]
  },
  {
   "cell_type": "markdown",
   "metadata": {},
   "source": [
    "You can see that using both methods gives essentially the same result and both arrays will work. Some important notes when initializing arrays...\n",
    "- Always separate individual data points using a *comma*\n",
    "- Use *square brackets* to enclose your array\n",
    "- Because np.array is a built in numpy function, you must put it's inputs in round brackets. Thus, when building an array remember to use round brackets AND then square brackets\n"
   ]
  },
  {
   "cell_type": "code",
   "execution_count": 12,
   "metadata": {},
   "outputs": [],
   "source": [
    "#Let's try a few examples. First let's initialize an array with the first 6 prime numbers\n",
    "\n",
    "\n",
    "#Next, lets initialize an array that goes from 0 to 10\n"
   ]
  },
  {
   "cell_type": "markdown",
   "metadata": {},
   "source": [
    "#### You Try! \n",
    "Make an array using np.array that stores your [birth year, birth month, birth day]. \n",
    "i.e for me this would be [2000, 11, 28]"
   ]
  },
  {
   "cell_type": "markdown",
   "metadata": {},
   "source": [
    "# Now onto the final numpy function we will look at today, np.linspace! \n",
    "This one has 3 inputs so is a little trickier to use than the first 3. The inputs are first point, last point, and number of data points desired."
   ]
  },
  {
   "cell_type": "code",
   "execution_count": 23,
   "metadata": {},
   "outputs": [
    {
     "name": "stdout",
     "output_type": "stream",
     "text": [
      "[ 1.  2.  3.  4.  5.  6.  7.  8.  9. 10. 11.]\n"
     ]
    }
   ],
   "source": [
    "#For example, to getan array from 1 to 11 with 11 linearly spaced points, you would write\n",
    "example=np.linspace(1,11,num=11)\n",
    "print(example)"
   ]
  },
  {
   "cell_type": "code",
   "execution_count": 24,
   "metadata": {},
   "outputs": [
    {
     "name": "stdout",
     "output_type": "stream",
     "text": [
      "[ 1.  2.  3.  4.  5.  6.  7.  8.  9. 10. 11.]\n"
     ]
    }
   ],
   "source": [
    "#You can also omit using the num=__ part and just type in the number of points you want in the third 'slot'\n",
    "example2=np.linspace(1,11,11)\n",
    "print(example2)\n",
    "\n",
    "#They both give the exact same result so just use whichever you prefer!"
   ]
  },
  {
   "cell_type": "markdown",
   "metadata": {},
   "source": [
    "#### You Try!\n",
    "Create an array that shows a range between 152.3 and 972.74 using 21 data points"
   ]
  },
  {
   "cell_type": "markdown",
   "metadata": {},
   "source": [
    "# Calling specific elements of an array (AKA Indexing)"
   ]
  },
  {
   "cell_type": "markdown",
   "metadata": {},
   "source": [
    "Say I want to access the 5th element of my array, how do I do that?\n",
    "Simply type in the name of your array with the element you want to access"
   ]
  },
  {
   "cell_type": "code",
   "execution_count": 26,
   "metadata": {},
   "outputs": [],
   "source": [
    "      #type in line here"
   ]
  },
  {
   "cell_type": "markdown",
   "metadata": {},
   "source": [
    "Why is it showing the 6th element of the array instead of the 5th?\n",
    "### Python Indexing starts at 0!\n",
    "So if you want to call the first element of your array, you would type ArrayName[0]"
   ]
  },
  {
   "cell_type": "code",
   "execution_count": 29,
   "metadata": {},
   "outputs": [
    {
     "name": "stdout",
     "output_type": "stream",
     "text": [
      "1.0\n",
      "5.0\n"
     ]
    }
   ],
   "source": [
    "print(example[0])\n",
    "\n",
    "#So to access the 5th element of our array, we would type\n",
    "print(example[4])"
   ]
  },
  {
   "cell_type": "markdown",
   "metadata": {},
   "source": [
    "### General Rule: when indexing, type in the number below the element you want to index\n",
    "Now, what if you want to access multiple elements of an array?"
   ]
  },
  {
   "cell_type": "markdown",
   "metadata": {},
   "source": [
    "When writing on paper, we normally use a dash to represent a range. For example, \"I want to access elements 5-7 in my array\". However, Python uses a colon (:) to represent a range. "
   ]
  },
  {
   "cell_type": "code",
   "execution_count": 30,
   "metadata": {},
   "outputs": [
    {
     "name": "stdout",
     "output_type": "stream",
     "text": [
      "[6. 7.]\n"
     ]
    }
   ],
   "source": [
    "#So if I wanted to actually access these elements, I would type\n",
    "Elements_5_to_7=example[5:7]\n",
    "\n",
    "#Remember elements 5 to 7 actually refers to the 6th to 8th numbers in the array (because counting starts at 0)\n",
    "\n",
    "print(Elements_5_to_7)"
   ]
  },
  {
   "cell_type": "markdown",
   "metadata": {},
   "source": [
    "Note that this range does not include the upper bound of the specified range. You are basically telling the computer to access the 5th element and then the 6th and then STOP accessing when it reaches the 7th element."
   ]
  },
  {
   "cell_type": "markdown",
   "metadata": {},
   "source": [
    "If you want to access all elements after a specified point, just don't include an endpoint"
   ]
  },
  {
   "cell_type": "code",
   "execution_count": 32,
   "metadata": {},
   "outputs": [
    {
     "name": "stdout",
     "output_type": "stream",
     "text": [
      "[ 3.  4.  5.  6.  7.  8.  9. 10. 11.]\n"
     ]
    }
   ],
   "source": [
    "All_pts_after_2=example[2:]\n",
    "print(All_pts_after_2)"
   ]
  },
  {
   "cell_type": "markdown",
   "metadata": {},
   "source": [
    "### Question Time! \n",
    "I know this part can be especially confusing so please ask!"
   ]
  },
  {
   "cell_type": "markdown",
   "metadata": {},
   "source": [
    "# Doing math with arrays!!!\n",
    "This is an area where arrays really show their stuff."
   ]
  },
  {
   "cell_type": "markdown",
   "metadata": {},
   "source": [
    "Often in physics, you will be asked to solve an equation with a huge range of input values. For example, a broken spacecraft's current velocity could be modelled by the function below where v_0 is the spaceship's initial velocity, a is the acceleration, and x is the distance travelled by a spaceship. "
   ]
  },
  {
   "cell_type": "markdown",
   "metadata": {},
   "source": [
    "\\begin{equation}\n",
    "v=\\sqrt{v_0^2+2ax}\n",
    "\\end{equation}"
   ]
  },
  {
   "cell_type": "markdown",
   "metadata": {},
   "source": [
    "If you wanted to see how fast you're spaceship would be moving for every possible initial velocity between 200-250 m/s, it would be exhausting to calculate these values by hand. Time to summon the power of arrays!"
   ]
  },
  {
   "cell_type": "code",
   "execution_count": 21,
   "metadata": {},
   "outputs": [
    {
     "name": "stdout",
     "output_type": "stream",
     "text": [
      "[142.7585374  144.15616532 145.54724319 146.93195704 148.31048513\n",
      " 149.68299837 151.04966071 152.41062955 153.76605607 155.11608556\n",
      " 156.46085772 157.80050697 159.13516268 160.46494944 161.78998733\n",
      " 163.11039207 164.42627527 165.73774464 167.04490414 168.34785416\n",
      " 169.64669169 170.94151046 172.23240113 173.51945136 174.80274597\n",
      " 176.08236709 177.35839422 178.63090438 179.89997221 181.16567004\n",
      " 182.42806802 183.68723418 184.94323453 186.19613315 187.44599222\n",
      " 188.69287215 189.9368316  191.1779276  192.41621553 193.65174928\n",
      " 194.88458123 196.11476232 197.34234214 198.56736892 199.78988963\n",
      " 201.00995    202.22759456 203.44286667 204.65580862 205.86646157\n",
      " 207.07486569]\n"
     ]
    }
   ],
   "source": [
    "#Let's determine the values of velocity over this range of initial velocities\n",
    "\n",
    "a=-9.81 #acceleration due to Earth's gravity in [meters/seconds^2]\n",
    "x=1000 #Let's say the broken spaceship is 1 km above Earth's surface\n",
    "\n",
    "\n",
    "#Creating an array that includes every value between 200-250 m/s.\n",
    "v0=np.linspace(200,250,num=51)\n",
    "\n",
    "#Question: Why would I have used 51 points?\n",
    "\n",
    "\n",
    "#Applying the equation above to calculate the \n",
    "v=np.sqrt(v0**2+2*a*x)\n",
    "\n",
    "print(\"For an initial velocity of\", v0"
   ]
  },
  {
   "cell_type": "markdown",
   "metadata": {},
   "source": [
    "# Dark Matter example (If time Allows)"
   ]
  },
  {
   "cell_type": "markdown",
   "metadata": {},
   "source": [
    "Say you are asked to calculate the Dark Matter Density at different densities from the galactic centre with the following equation..."
   ]
  },
  {
   "cell_type": "markdown",
   "metadata": {},
   "source": [
    "\\begin{equation}\n",
    "\\rho_x(r)=\\rho_s\\frac{2^\\gamma}{(r/r_s)^\\gamma}\n",
    "\\end{equation}"
   ]
  },
  {
   "cell_type": "markdown",
   "metadata": {},
   "source": [
    "Given...\n",
    "\\begin{equation}\n",
    "\\rho_s=0.707 kg/m^3\n",
    "\\end{equation}\n",
    "\\begin{equation}\n",
    "\\gamma=1.2\n",
    "\\end{equation}\n",
    "\\begin{equation}\n",
    "r_s=20000 m\n",
    "\\end{equation}"
   ]
  },
  {
   "cell_type": "markdown",
   "metadata": {},
   "source": [
    "Calculate the Dark Matter Density for a range of distances from 1 km-100 km"
   ]
  },
  {
   "cell_type": "code",
   "execution_count": null,
   "metadata": {},
   "outputs": [],
   "source": []
  }
 ],
 "metadata": {
  "kernelspec": {
   "display_name": "Python 3",
   "language": "python",
   "name": "python3"
  },
  "language_info": {
   "codemirror_mode": {
    "name": "ipython",
    "version": 3
   },
   "file_extension": ".py",
   "mimetype": "text/x-python",
   "name": "python",
   "nbconvert_exporter": "python",
   "pygments_lexer": "ipython3",
   "version": "3.7.6"
  }
 },
 "nbformat": 4,
 "nbformat_minor": 4
}
